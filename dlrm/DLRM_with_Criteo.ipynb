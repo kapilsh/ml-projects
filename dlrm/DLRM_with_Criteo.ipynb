{
 "cells": [
  {
   "cell_type": "markdown",
   "id": "106b4596-391f-41c5-9a65-a50f8ac31f05",
   "metadata": {},
   "source": [
    "# Criteo data"
   ]
  },
  {
   "cell_type": "code",
   "execution_count": 1,
   "id": "31f45b8a-0770-4e7f-83f8-0926df2a8eff",
   "metadata": {},
   "outputs": [],
   "source": [
    "import pandas as pd\n",
    "import numpy as np\n",
    "import torch"
   ]
  },
  {
   "cell_type": "code",
   "execution_count": 2,
   "id": "f56fb179-6fb4-4e9c-a994-625482e22208",
   "metadata": {},
   "outputs": [],
   "source": [
    "NUM_DENSE = 13\n",
    "NUM_SPARSE = 26"
   ]
  },
  {
   "cell_type": "code",
   "execution_count": 3,
   "id": "858b2436-6657-466e-accc-fa074ba081aa",
   "metadata": {},
   "outputs": [],
   "source": [
    "dense_features = [f\"DENSE_{i}\" for i in range(NUM_DENSE)]\n",
    "sparse_features = [f\"SPARSE_{i}\" for i in range(NUM_SPARSE)]"
   ]
  },
  {
   "cell_type": "code",
   "execution_count": 4,
   "id": "30c4fb98-1604-455f-865b-62520d6097f2",
   "metadata": {},
   "outputs": [],
   "source": [
    "columns = [\"labels\"] + dense_features + sparse_features"
   ]
  },
  {
   "cell_type": "code",
   "execution_count": 5,
   "id": "93c886b9-018b-44f6-8867-30a229eef55d",
   "metadata": {},
   "outputs": [],
   "source": [
    "column_types = {col: 'float32' for col in [\"labels\"] + dense_features}\n",
    "column_types.update({col: 'str' for col in sparse_features})"
   ]
  },
  {
   "cell_type": "code",
   "execution_count": 6,
   "id": "b42da498-6da0-45af-8a31-2d1f2095c066",
   "metadata": {},
   "outputs": [],
   "source": [
    "day_to_load = 0"
   ]
  },
  {
   "cell_type": "code",
   "execution_count": 7,
   "id": "6cc81a52-e3f0-4b62-a75e-49abaff1db06",
   "metadata": {},
   "outputs": [],
   "source": [
    "file_path = f\"/data/day_{day_to_load}.gz\""
   ]
  },
  {
   "cell_type": "code",
   "execution_count": 8,
   "id": "fc99aabc-b01a-421f-a57e-20b047c23929",
   "metadata": {},
   "outputs": [],
   "source": [
    "# Function to convert hexadecimal string to integer\n",
    "def hex_to_int(hex_string):\n",
    "    if hex_string == 'nan':\n",
    "        return -1\n",
    "    return int(hex_string, 16)\n",
    "\n",
    "def clean_chunk(chunk):\n",
    "    chunk[dense_features] = chunk[dense_features].fillna(0).astype(np.float32)\n",
    "    for sparse_feature_name in sparse_features:\n",
    "        chunk[sparse_feature_name] = chunk[sparse_feature_name].astype(str).apply(hex_to_int)\n",
    "    chunk[\"labels\"] = chunk[\"labels\"].astype(np.float64)\n",
    "    return chunk"
   ]
  },
  {
   "cell_type": "code",
   "execution_count": 9,
   "id": "6a5acfba-b3d2-411e-92cc-73cee6bfb0e9",
   "metadata": {},
   "outputs": [],
   "source": [
    "chunk_size = 1000000  # Adjust this value based on your system's memory constraints\n",
    "total_rows = 0\n",
    "total_size = 0\n",
    "for chunk in pd.read_csv(file_path, sep='\\t', header=None, names=columns,compression='gzip', chunksize=chunk_size):\n",
    "    total_rows += len(chunk)\n",
    "    chunk = clean_chunk(chunk)\n",
    "    total_size += chunk.memory_usage(deep=True).sum() / 10**9\n",
    "    print(\"done with \", total_rows, total_size, \"gb\")\n",
    "# Display the resulting DataFrame"
   ]
  },
  {
   "cell_type": "code",
   "execution_count": 254,
   "id": "4a377e72-6910-4843-a88e-adf3335ca905",
   "metadata": {},
   "outputs": [],
   "source": [
    "# all_data = pd.read_csv(file_path, sep='\\t', header=None, names=columns, dtype=column_types, compression='gzip')"
   ]
  },
  {
   "cell_type": "code",
   "execution_count": 257,
   "id": "8c1019b3-ed5c-44d2-ac02-fe6fe36d11c7",
   "metadata": {},
   "outputs": [],
   "source": [
    "chunk_size = 1000  # Adjust this value based on your system's memory constraints\n",
    "all_dfs = []\n",
    "num_chunks = 100000\n",
    "original_chunks = 100000\n",
    "\n",
    "for chunk in pd.read_csv(file_path, sep='\\t', header=None, names=columns,compression='gzip', chunksize=chunk_size):\n",
    "    if num_chunks % 100 == 0:\n",
    "        print(f\"Done with {original_chunks - num_chunks}\")\n",
    "    chunk = clean_chunk(chunk)\n",
    "    all_dfs.append(chunk)\n",
    "    num_chunks -= 1\n",
    "    if num_chunks == 0:\n",
    "        break\n",
    "result_df = pd.concat(all_dfs)\n",
    "# Display the resulting DataFrame\n",
    "print(len(result_df))"
   ]
  },
  {
   "cell_type": "code",
   "execution_count": 258,
   "id": "4717e7fa-b6ba-46af-97e9-2f00db4e07ba",
   "metadata": {},
   "outputs": [],
   "source": [
    "result_df.memory_usage(deep=True).sum() / 10**9"
   ]
  },
  {
   "cell_type": "code",
   "execution_count": 196,
   "id": "995aba05-e26b-4f38-a112-d598ea1e3704",
   "metadata": {},
   "outputs": [],
   "source": [
    "category_reverse_map = {feature_name: {\n",
    "    value: idx for idx, value in enumerate(np.unique(result_df[feature_name].values))\n",
    "} for feature_name in sparse_features}"
   ]
  },
  {
   "cell_type": "code",
   "execution_count": 197,
   "id": "a208ceee-e609-44b0-b921-09992117a349",
   "metadata": {},
   "outputs": [],
   "source": [
    "def tokenize_sparse(df):\n",
    "    for feature_name in sparse_features:\n",
    "        df[feature_name] = df[feature_name].map(category_reverse_map[feature_name]).astype(np.int64)\n",
    "    return df"
   ]
  },
  {
   "cell_type": "code",
   "execution_count": 198,
   "id": "171eceda-da9f-4a1f-903f-55bb2d9df3e2",
   "metadata": {},
   "outputs": [],
   "source": [
    "result_df = tokenize_sparse(result_df)"
   ]
  },
  {
   "cell_type": "code",
   "execution_count": 199,
   "id": "a669acf8-760d-48af-aef0-3749275dd0ff",
   "metadata": {},
   "outputs": [],
   "source": [
    "result_df.memory_usage(deep=True).sum() / 10**9"
   ]
  },
  {
   "cell_type": "markdown",
   "id": "cfc54b6a-2c55-4844-964e-86399adac9e7",
   "metadata": {},
   "source": [
    "# All Data and Dataset"
   ]
  },
  {
   "cell_type": "code",
   "execution_count": 200,
   "id": "c74155e8-4ae0-4685-bda2-a483f674ea0c",
   "metadata": {},
   "outputs": [],
   "source": [
    "dense_tensor_data = torch.from_numpy(result_df[dense_features].fillna(0).values)\n",
    "dense_tensor_data.size()"
   ]
  },
  {
   "cell_type": "code",
   "execution_count": 201,
   "id": "6de7e908-4d80-4a42-8ed4-cae7794cc786",
   "metadata": {},
   "outputs": [],
   "source": [
    "sparse_tensor_data = {fn: torch.from_numpy(result_df[fn].values) for fn in sparse_features}"
   ]
  },
  {
   "cell_type": "code",
   "execution_count": 251,
   "id": "d4d1ce6d-c641-49d1-855f-d19c270b2229",
   "metadata": {},
   "outputs": [],
   "source": [
    "labels_tensor_data = torch.from_numpy(result_df[\"labels\"].values.astype(np.float64))\n",
    "labels_tensor_data.dtype"
   ]
  },
  {
   "cell_type": "code",
   "execution_count": 203,
   "id": "55a1b501-329d-47d1-9258-6b5ea3d4ec5f",
   "metadata": {},
   "outputs": [],
   "source": [
    "from typing import NamedTuple, Mapping, Tuple\n",
    "import torch\n",
    "\n",
    "class ModelInput(NamedTuple):\n",
    "    dense_features: torch.Tensor\n",
    "    sparse_features: Mapping[str, torch.Tensor]"
   ]
  },
  {
   "cell_type": "markdown",
   "id": "92d99b6b-e623-48dd-b9b7-3240c7cd7b83",
   "metadata": {},
   "source": [
    "# Model Architecture"
   ]
  },
  {
   "cell_type": "markdown",
   "id": "102d3371-5549-490c-b82c-20a28830d756",
   "metadata": {},
   "source": [
    "An implementation of a deep learning recommendation model (DLRM). The model input consists of dense and sparse features. The former is a vector of floating point values. The latter is a list of sparse indices into embedding tables, which consist of vectors of floating point values. The selected vectors are passed to mlp networks denoted by triangles, in some cases the vectors are interacted through operators (Ops)."
   ]
  },
  {
   "cell_type": "code",
   "execution_count": 204,
   "id": "d165f529-c515-45a1-b685-bb6577697b3e",
   "metadata": {},
   "outputs": [],
   "source": [
    "# output:\n",
    "#                     probability of a click\n",
    "# model:                        |\n",
    "#                              /\\\n",
    "#                             /__\\\n",
    "#                               |\n",
    "#       _____________________> Op  <___________________\n",
    "#     /                         |                      \\\n",
    "#    /\\                        /\\                      /\\\n",
    "#   /__\\                      /__\\           ...      /__\\\n",
    "#    |                          |                       |\n",
    "#    |                         Op                      Op\n",
    "#    |                    ____/__\\_____           ____/__\\____\n",
    "#    |                   |_Emb_|____|__|    ...  |_Emb_|__|___|\n",
    "# input:\n",
    "# [ dense features ]     [sparse indices] , ..., [sparse indices]"
   ]
  },
  {
   "cell_type": "code",
   "execution_count": 205,
   "id": "580699e6-e208-4985-bb5f-01f7f79c0ec6",
   "metadata": {},
   "outputs": [],
   "source": [
    "import torch.nn as nn"
   ]
  },
  {
   "cell_type": "markdown",
   "id": "96f8988a-cfba-4c76-b7e9-14a64fc59d96",
   "metadata": {},
   "source": [
    "# MLP"
   ]
  },
  {
   "cell_type": "code",
   "execution_count": 206,
   "id": "d3ee0329-05ae-450d-8e00-471b265e3fcb",
   "metadata": {},
   "outputs": [],
   "source": [
    "# Define the MLP model\n",
    "class MLP(nn.Module):\n",
    "    def __init__(self, input_size: int, hidden_size: int, output_size: int):\n",
    "        super(MLP, self).__init__()\n",
    "        self.fc1 = nn.Linear(input_size, hidden_size)\n",
    "        self.relu = nn.ReLU()\n",
    "        self.fc2 = nn.Linear(hidden_size, output_size)\n",
    "    \n",
    "    def forward(self, x):\n",
    "        x = self.fc1(x)\n",
    "        x = self.relu(x)\n",
    "        x = self.fc2(x)\n",
    "        return x"
   ]
  },
  {
   "cell_type": "markdown",
   "id": "65d18103-423e-4c40-a632-4d73ace9248f",
   "metadata": {},
   "source": [
    "# Dense Arch"
   ]
  },
  {
   "cell_type": "code",
   "execution_count": 207,
   "id": "8976a712-e5d3-4d93-9772-78dc52abd828",
   "metadata": {},
   "outputs": [],
   "source": [
    "import torch.nn as nn\n",
    "\n",
    "class DenseArch(nn.Module):\n",
    "    def __init__(self, dense_feature_count: int, output_size: int) -> None:\n",
    "        super(DenseArch, self).__init__()  # Call the superclass's __init__ method\n",
    "        self.mlp = MLP(input_size=dense_feature_count, hidden_size=output_size * 2, output_size=output_size) # D X O\n",
    "\n",
    "    def forward(self, inputs: torch.Tensor) -> torch.Tensor:\n",
    "        # Input : B X D # Output : B X O\n",
    "        return self.mlp(inputs)"
   ]
  },
  {
   "cell_type": "code",
   "execution_count": 208,
   "id": "d41d3652-463f-44d6-a979-6856ab28a329",
   "metadata": {},
   "outputs": [],
   "source": [
    "# Let's test it"
   ]
  },
  {
   "cell_type": "code",
   "execution_count": 209,
   "id": "ffb44e54-2576-4403-be9b-d8e368543e4f",
   "metadata": {},
   "outputs": [],
   "source": [
    "dense_tensor = dense_tensor_data"
   ]
  },
  {
   "cell_type": "code",
   "execution_count": 210,
   "id": "80ba6390-a559-4a0d-897c-6a8866b80a65",
   "metadata": {},
   "outputs": [],
   "source": [
    "output_size = 16\n",
    "\n",
    "dense_arch = DenseArch(len(dense_features), 16)\n",
    "dense_out = dense_arch(dense_tensor)"
   ]
  },
  {
   "cell_type": "code",
   "execution_count": 211,
   "id": "9d7fbc0b-53a7-46b6-83db-6aa557cd9824",
   "metadata": {},
   "outputs": [],
   "source": [
    "dense_out.size()"
   ]
  },
  {
   "cell_type": "code",
   "execution_count": 212,
   "id": "64ed6305-378f-4880-b72d-d795f7098e3b",
   "metadata": {},
   "outputs": [],
   "source": [
    "dense_out"
   ]
  },
  {
   "cell_type": "markdown",
   "id": "66b59330-ec0f-4b4e-af01-45f0104fa491",
   "metadata": {},
   "source": [
    "# Sparse Arch"
   ]
  },
  {
   "cell_type": "code",
   "execution_count": 213,
   "id": "b23dc282-4dc6-4164-9111-bd003a1e487f",
   "metadata": {},
   "outputs": [],
   "source": [
    "from typing import List, Dict\n",
    "\n",
    "class SparseArch(nn.Module):\n",
    "    def __init__(self, embedding_dimensions: Mapping[str, Tuple[int, int]], output_size: int) -> None:\n",
    "        super(SparseArch, self).__init__()\n",
    "\n",
    "        # Create Embedding layers for each sparse feature\n",
    "        self.embeddings = nn.ModuleDict({\n",
    "            feature_name: nn.Embedding(num_embeddings, embedding_dim)\n",
    "            for feature_name, (num_embeddings, embedding_dim) in embedding_dimensions.items()\n",
    "        })\n",
    "\n",
    "        # Create MLP for each sparse feature\n",
    "        self.mlps = nn.ModuleDict({\n",
    "            feature_name: MLP(input_size=embedding_dim, hidden_size=output_size * 2, output_size=output_size)\n",
    "            for feature_name, (num_embeddings, embedding_dim) in embedding_dimensions.items()\n",
    "        })\n",
    "\n",
    "    def forward(self, inputs: Dict[str, torch.Tensor]) -> List[torch.Tensor]:\n",
    "        output_values = []\n",
    "        for feature, input_values in inputs.items():\n",
    "            embeddings = self.embeddings[feature](input_values)\n",
    "            sparse_out = self.mlps[feature](embeddings)\n",
    "            output_values.append(sparse_out)\n",
    "        \n",
    "        return output_values"
   ]
  },
  {
   "cell_type": "code",
   "execution_count": null,
   "id": "2d5eac12-0f93-430b-ba79-ab5469e1110a",
   "metadata": {},
   "outputs": [],
   "source": []
  },
  {
   "cell_type": "code",
   "execution_count": 214,
   "id": "f3e676eb-be02-4532-a5c9-fb5e1e8c7685",
   "metadata": {},
   "outputs": [],
   "source": [
    "embedding_size = 16\n",
    "\n",
    "embedding_dimensions = {fn: (num_categories[fn] +  1, embedding_size) for fn in sparse_features}\n",
    "print(embedding_dimensions)"
   ]
  },
  {
   "cell_type": "code",
   "execution_count": 215,
   "id": "5007851d-4c0c-4080-acd5-2967bd0c4b6d",
   "metadata": {},
   "outputs": [],
   "source": [
    "output_size = 16"
   ]
  },
  {
   "cell_type": "code",
   "execution_count": 216,
   "id": "aa73d3fe-0be5-4554-aefa-010487c77a32",
   "metadata": {},
   "outputs": [],
   "source": [
    "sparse_arch = SparseArch(embedding_dimensions=embedding_dimensions, output_size=output_size)"
   ]
  },
  {
   "cell_type": "code",
   "execution_count": 217,
   "id": "3b229291-63ff-4696-a6ac-b033867b2c5e",
   "metadata": {},
   "outputs": [],
   "source": [
    "sparse_tensor_data[\"SPARSE_0\"].size()"
   ]
  },
  {
   "cell_type": "code",
   "execution_count": 218,
   "id": "aabf682f-40b2-4aaa-a604-d9fe26e8cd67",
   "metadata": {},
   "outputs": [],
   "source": [
    "sparse_out = sparse_arch(sparse_tensor_data)\n",
    "sparse_out"
   ]
  },
  {
   "cell_type": "markdown",
   "id": "e6289cba-4c57-428a-a3ae-8222090c15aa",
   "metadata": {},
   "source": [
    "# Dense Sparse Interaction"
   ]
  },
  {
   "cell_type": "code",
   "execution_count": 219,
   "id": "279a351f-5b90-42da-a4b1-39cc3f2c11e6",
   "metadata": {},
   "outputs": [],
   "source": [
    "class DenseSparseInteractionLayer(nn.Module):    \n",
    "    def forward(self, dense_out: torch.Tensor, sparse_out: List[torch.Tensor]) -> float:\n",
    "        concat = torch.cat([dense_out] + sparse_out, dim=-1).unsqueeze(2)\n",
    "        out = torch.bmm(concat, torch.transpose(concat, 1, 2))\n",
    "        flattened = torch.flatten(out, 1)\n",
    "        return flattened"
   ]
  },
  {
   "cell_type": "code",
   "execution_count": 220,
   "id": "a8e3e445-4438-496e-b8fc-c50d3df4ccaf",
   "metadata": {},
   "outputs": [],
   "source": [
    "class PredictionLayer(nn.Module):\n",
    "    def __init__(self,dense_out_size: int , sparse_out_sizes: List[int], hidden_size: int): \n",
    "        super(PredictionLayer, self).__init__()\n",
    "        concat_size = sum(sparse_out_sizes) + dense_out_size\n",
    "        self.mlp = MLP(input_size=concat_size * concat_size, hidden_size=hidden_size, output_size=1)\n",
    "        self.sigmoid = nn.Sigmoid()\n",
    "\n",
    "    def forward(self, inputs: torch.Tensor) -> float:\n",
    "        mlp_out = self.mlp(inputs)\n",
    "        result = self.sigmoid(mlp_out)\n",
    "        return result"
   ]
  },
  {
   "cell_type": "code",
   "execution_count": 221,
   "id": "7e638597-c7f7-42d9-b19f-e4cd61c29e0b",
   "metadata": {},
   "outputs": [],
   "source": [
    "dense_sparse_interaction_layer = DenseSparseInteractionLayer()\n",
    "ds_out = dense_sparse_interaction_layer(dense_out, sparse_out)"
   ]
  },
  {
   "cell_type": "code",
   "execution_count": 222,
   "id": "cb22ac8c-9f02-4af7-a7d5-dc37acd1c943",
   "metadata": {},
   "outputs": [],
   "source": [
    "ds_out.size()"
   ]
  },
  {
   "cell_type": "code",
   "execution_count": 223,
   "id": "66b872f0-20ab-4249-bcde-ff411966af93",
   "metadata": {},
   "outputs": [],
   "source": [
    "prediction_layer = PredictionLayer(dense_out_size=output_size, sparse_out_sizes=[output_size]*len(sparse_features), hidden_size=16)"
   ]
  },
  {
   "cell_type": "code",
   "execution_count": 224,
   "id": "853cca22-1857-466a-9694-729a2ac92ab5",
   "metadata": {},
   "outputs": [],
   "source": [
    "pred_out = prediction_layer(ds_out)\n",
    "pred_out.size()"
   ]
  },
  {
   "cell_type": "markdown",
   "id": "33b3ca73-a5e7-46f2-826b-79d2e4e2f747",
   "metadata": {},
   "source": [
    "# Model"
   ]
  },
  {
   "cell_type": "code",
   "execution_count": 225,
   "id": "c582666c-a67b-492e-97b3-f18b4c94fec2",
   "metadata": {},
   "outputs": [],
   "source": [
    "from dataclasses import dataclass\n",
    "\n",
    "# parameters\n",
    "# dense_input_feature_size\n",
    "# sparse_embedding_dimenstions\n",
    "# dense_output_size\n",
    "# sparse_output_size\n",
    "# dense_hidden_size\n",
    "# sparse_hidden_size\n",
    "# prediction_hidden_size\n",
    "\n",
    "@dataclass\n",
    "class Parameters:\n",
    "    dense_input_feature_size: int\n",
    "    sparse_embedding_dimenstions: Mapping[str, Tuple[int, int]]\n",
    "    dense_output_size: int\n",
    "    sparse_output_size: int\n",
    "    dense_hidden_size: int\n",
    "    sparse_hidden_size: int\n",
    "    prediction_hidden_size: int\n",
    "\n",
    "class DLRM(nn.Module):\n",
    "    def __init__(self, parameters: Parameters):\n",
    "        super(DLRM, self).__init__()\n",
    "        self.dense_layer = DenseArch(dense_feature_count=parameters.dense_input_feature_size, output_size=parameters.dense_output_size)\n",
    "        self.sparse_layer = SparseArch(embedding_dimensions=parameters.sparse_embedding_dimenstions, output_size=parameters.sparse_output_size)\n",
    "        self.interaction_layer = DenseSparseInteractionLayer()\n",
    "        self.prediction_layer = PredictionLayer(\n",
    "            dense_out_size=parameters.dense_output_size, \n",
    "            sparse_out_sizes=[parameters.sparse_output_size]*len(parameters.sparse_embedding_dimenstions), \n",
    "            hidden_size=parameters.prediction_hidden_size\n",
    "        )\n",
    "\n",
    "    def forward(self, dense_features, sparse_features) -> float:\n",
    "        dense_out = self.dense_layer(dense_features)\n",
    "        sparse_out = self.sparse_layer(sparse_features)\n",
    "        ds_out = self.interaction_layer(dense_out, sparse_out)\n",
    "        return self.prediction_layer(ds_out)"
   ]
  },
  {
   "cell_type": "code",
   "execution_count": 228,
   "id": "e73bdb95-09c7-4f39-b0ed-d6fa10196eaf",
   "metadata": {},
   "outputs": [],
   "source": [
    "parameters = Parameters(\n",
    "    dense_input_feature_size=len(dense_features),\n",
    "    sparse_embedding_dimenstions=embedding_dimensions,\n",
    "    dense_output_size=16,\n",
    "    sparse_output_size=16,\n",
    "    dense_hidden_size=32,\n",
    "    sparse_hidden_size=32,\n",
    "    prediction_hidden_size=32)"
   ]
  },
  {
   "cell_type": "code",
   "execution_count": 229,
   "id": "fe2a92ca-a312-4918-a4db-c8b15bd853aa",
   "metadata": {},
   "outputs": [],
   "source": [
    "dlrm = DLRM(parameters=parameters)"
   ]
  },
  {
   "cell_type": "code",
   "execution_count": 231,
   "id": "4c69472e-b7e8-4ca9-8275-e1f87243c7e0",
   "metadata": {},
   "outputs": [],
   "source": [
    "prediction = dlrm(dense_tensor, sparse_tensor_data)"
   ]
  },
  {
   "cell_type": "code",
   "execution_count": 232,
   "id": "c535b2da-6e1d-4a66-94fe-297f34c330b4",
   "metadata": {},
   "outputs": [],
   "source": [
    "from torchviz import make_dot"
   ]
  },
  {
   "cell_type": "code",
   "execution_count": 233,
   "id": "fb3bc9ef-9f42-46a5-b305-1cfe9ddf109a",
   "metadata": {},
   "outputs": [],
   "source": [
    "make_dot(prediction.mean(), params=dict(dlrm.named_parameters()), show_attrs=True, show_saved=True)"
   ]
  },
  {
   "cell_type": "code",
   "execution_count": 234,
   "id": "fd3c32c6-b1f8-4fb9-bd28-3e993ef37593",
   "metadata": {},
   "outputs": [],
   "source": [
    "out = make_dot(prediction.mean(), params=dict(dlrm.named_parameters()), show_attrs=True, show_saved=True)"
   ]
  },
  {
   "cell_type": "code",
   "execution_count": 235,
   "id": "2e3b48cd-eaad-4ae6-af1d-a91650787cad",
   "metadata": {},
   "outputs": [],
   "source": [
    "out.render(\"dlrm.pdf\",format=\"pdf\", view=False)"
   ]
  },
  {
   "cell_type": "code",
   "execution_count": 237,
   "id": "f225b862-4768-4ced-8317-454166e6033f",
   "metadata": {},
   "outputs": [],
   "source": [
    "model_input = ModelInput(dense_features=dense_tensor, sparse_features=sparse_tensor_data)"
   ]
  },
  {
   "cell_type": "code",
   "execution_count": 241,
   "id": "df469228-b99f-4e71-8d98-63c6721cdbd1",
   "metadata": {},
   "outputs": [],
   "source": [
    "traced_model = torch.jit.trace(dlrm, [dense_tensor, sparse_tensor_data])"
   ]
  },
  {
   "cell_type": "code",
   "execution_count": 242,
   "id": "959c0c4b-038c-47b6-a274-d04ed88b0e70",
   "metadata": {},
   "outputs": [],
   "source": [
    "traced_model.graph"
   ]
  },
  {
   "cell_type": "code",
   "execution_count": 243,
   "id": "c4b7492a-745b-4dbc-acdc-a36568b8f47b",
   "metadata": {},
   "outputs": [],
   "source": [
    "print(traced_model.code)"
   ]
  },
  {
   "cell_type": "code",
   "execution_count": 244,
   "id": "cce16e84-d375-4de5-9026-3dd34fb55d30",
   "metadata": {},
   "outputs": [],
   "source": [
    "compiled = torch.compile(dlrm, mode='max-autotune')"
   ]
  },
  {
   "cell_type": "code",
   "execution_count": 246,
   "id": "32f9a2c7-b1f2-4c66-914b-f27bb0826e12",
   "metadata": {},
   "outputs": [],
   "source": [
    "torch._dynamo.reset()\n",
    "explain_output = torch._dynamo.explain(compiled)(dense_tensor, sparse_tensor_data)\n",
    "print(explain_output)"
   ]
  },
  {
   "cell_type": "markdown",
   "id": "ae223d74-59d6-437e-b83e-b1fad6a2cabd",
   "metadata": {},
   "source": [
    "# Dataset"
   ]
  },
  {
   "cell_type": "code",
   "execution_count": null,
   "id": "b166bf6b-5250-4b5a-9484-2669680af681",
   "metadata": {},
   "outputs": [],
   "source": []
  },
  {
   "cell_type": "markdown",
   "id": "4ffccd8d-0462-44d0-8192-974b2ae13aeb",
   "metadata": {},
   "source": [
    "# Train Loop"
   ]
  },
  {
   "cell_type": "code",
   "execution_count": null,
   "id": "8c99ec8d-6166-4639-ac8d-7de4308ec86a",
   "metadata": {},
   "outputs": [],
   "source": []
  }
 ],
 "metadata": {
  "kernelspec": {
   "display_name": "Python 3 (ipykernel)",
   "language": "python",
   "name": "python3"
  },
  "language_info": {
   "codemirror_mode": {
    "name": "ipython",
    "version": 3
   },
   "file_extension": ".py",
   "mimetype": "text/x-python",
   "name": "python",
   "nbconvert_exporter": "python",
   "pygments_lexer": "ipython3",
   "version": "3.11.7"
  }
 },
 "nbformat": 4,
 "nbformat_minor": 5
}
